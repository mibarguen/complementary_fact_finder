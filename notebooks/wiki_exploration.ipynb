{
 "cells": [
  {
   "cell_type": "code",
   "execution_count": 3,
   "metadata": {},
   "outputs": [
    {
     "name": "stdout",
     "output_type": "stream",
     "text": [
      "/Users/mateoibarguen/Desktop/CSC 482/complementary_fact_finder\n"
     ]
    }
   ],
   "source": [
    "%cd .."
   ]
  },
  {
   "cell_type": "code",
   "execution_count": 6,
   "metadata": {},
   "outputs": [],
   "source": [
    "from gensim.corpora import WikiCorpus, MmCorpus, Dictionary\n",
    "from nltk.tokenize import sent_tokenize, word_tokenize\n",
    "import os\n",
    "import random\n",
    "import codecs\n",
    "from nltk.corpus import stopwords\n",
    "from nltk.stem.wordnet import WordNetLemmatizer\n",
    "import re\n",
    "from gensim.test.utils import common_texts\n",
    "from gensim.corpora.dictionary import Dictionary\n",
    "from gensim.models import LdaModel\n",
    "from gensim.test.utils import common_texts\n",
    "from gensim.corpora.dictionary import Dictionary\n",
    "import pickle"
   ]
  },
  {
   "cell_type": "code",
   "execution_count": 4,
   "metadata": {},
   "outputs": [],
   "source": [
    "with open ('data/token_sents.pkl', 'rb') as fp:\n",
    "    wiki_tokens = pickle.load(fp)"
   ]
  },
  {
   "cell_type": "code",
   "execution_count": 7,
   "metadata": {},
   "outputs": [],
   "source": [
    "wiki_dict = Dictionary(wiki_tokens)\n",
    "wiki_corpus = [wiki_dict.doc2bow(t) for t in wiki_tokens]"
   ]
  },
  {
   "cell_type": "code",
   "execution_count": 10,
   "metadata": {},
   "outputs": [],
   "source": [
    "lda = LdaModel(wiki_corpus, num_topics=10, id2word=wiki_dict)"
   ]
  },
  {
   "cell_type": "code",
   "execution_count": 12,
   "metadata": {},
   "outputs": [
    {
     "data": {
      "text/plain": [
       "[(0, '0.021*\"first\" + 0.018*\"different\" + 0.016*\"cell\" + 0.015*\"john\"'),\n",
       " (1, '0.022*\"army\" + 0.015*\"people\" + 0.013*\"british\" + 0.012*\"american\"'),\n",
       " (2, '0.073*\"war\" + 0.052*\"battle\" + 0.027*\"american\" + 0.020*\"civil\"'),\n",
       " (3, '0.022*\"body\" + 0.019*\"party\" + 0.017*\"system\" + 0.012*\"band\"'),\n",
       " (4, '0.018*\"new\" + 0.016*\"people\" + 0.014*\"heart\" + 0.013*\"city\"'),\n",
       " (5, '0.073*\"state\" + 0.060*\"united\" + 0.018*\"president\" + 0.011*\"language\"'),\n",
       " (6, '0.041*\"becomes\" + 0.020*\"event\" + 0.018*\"make\" + 0.017*\"charles\"'),\n",
       " (7, '0.018*\"forest\" + 0.017*\"king\" + 0.017*\"pope\" + 0.016*\"england\"'),\n",
       " (8, '0.027*\"emperor\" + 0.023*\"1900\" + 0.020*\"king\" + 0.020*\"roman\"'),\n",
       " (9, '0.033*\"blood\" + 0.027*\"first\" + 0.016*\"rock\" + 0.013*\"sold\"')]"
      ]
     },
     "execution_count": 12,
     "metadata": {},
     "output_type": "execute_result"
    }
   ],
   "source": [
    "lda.print_topics(num_words=4)"
   ]
  },
  {
   "cell_type": "code",
   "execution_count": null,
   "metadata": {},
   "outputs": [],
   "source": []
  }
 ],
 "metadata": {
  "kernelspec": {
   "display_name": "Python 3",
   "language": "python",
   "name": "python3"
  },
  "language_info": {
   "codemirror_mode": {
    "name": "ipython",
    "version": 3
   },
   "file_extension": ".py",
   "mimetype": "text/x-python",
   "name": "python",
   "nbconvert_exporter": "python",
   "pygments_lexer": "ipython3",
   "version": "3.7.3"
  }
 },
 "nbformat": 4,
 "nbformat_minor": 2
}
