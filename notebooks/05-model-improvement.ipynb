{
 "cells": [
  {
   "cell_type": "code",
   "execution_count": 1,
   "metadata": {},
   "outputs": [
    {
     "name": "stdout",
     "output_type": "stream",
     "text": [
      "/Users/mateoibarguen/Desktop/CSC 482/complementary_fact_finder\n"
     ]
    }
   ],
   "source": [
    "%cd .."
   ]
  },
  {
   "cell_type": "code",
   "execution_count": 56,
   "metadata": {},
   "outputs": [],
   "source": [
    "import pickle\n",
    "import re\n",
    "import json\n",
    "from src.topic_models import *"
   ]
  },
  {
   "cell_type": "markdown",
   "metadata": {},
   "source": [
    "### Steps:\n",
    "- Reload wikipedia corpus such that it outputs:\n",
    "    - Article title: First paragraph.\n",
    "- Save tokens.\n",
    "- Retrain so that it finds the most informative articles. \n",
    "- Score the sentences within each article. \n",
    "- provide the most informative sentence. "
   ]
  },
  {
   "cell_type": "code",
   "execution_count": 3,
   "metadata": {},
   "outputs": [],
   "source": [
    "with open('data/articles.pkl', 'rb') as f:\n",
    "    articles = pickle.load(f)"
   ]
  },
  {
   "cell_type": "code",
   "execution_count": 46,
   "metadata": {},
   "outputs": [],
   "source": [
    "with open('data/tai-documents-v3.json', 'r') as f:\n",
    "    students = json.load(f)"
   ]
  },
  {
   "cell_type": "code",
   "execution_count": 49,
   "metadata": {},
   "outputs": [],
   "source": [
    "text = [s['plaintext'] for s in students]"
   ]
  },
  {
   "cell_type": "code",
   "execution_count": 80,
   "metadata": {},
   "outputs": [
    {
     "name": "stdout",
     "output_type": "stream",
     "text": [
      "Space\n",
      "Annette Salgado #24\n",
      "\n",
      "Table of Contents\n",
      "Introduction\n",
      "Facts about space\n",
      "Different planets\n",
      "Sun\n",
      "conclusion\n",
      "\n",
      "Introduction\n",
      "\n",
      "Do you LOVE space? Well if you do you will maybe like this book, but anyway I am going to teach you some facts about space, but I will also teach you about the different planets out there in space, but what about the sun? Well I will also teach you about the great big star in are solar system. Well what are you waiting fo go and read my book about space.\n",
      "\n",
      "Fun facts about space\n",
      "\n",
      "Have you heard of the black hole that people took a picture from? Well if you have how cool was it to see? But anyway here are some fun fact about space. Did you know that there are hotter planets then the sun? Well if not then the hotter or bigger sun is KELT-9b this plant is hotter than most stars it was found in the year 2016. Did you know that no one knows how old saturn’s rings are? Do you know that venus is named after the goddess of love? Her name was Venus too!\n",
      "\n",
      "Different planets\n",
      "\n",
      "Have you heard of mars? Well mars is planet that most people think it does not have any life in it. But mars could support life. Which is really cool if you think about it. Now let’s not forget about saturn here. Saturn has 62 moons! I bet you didn’t know about that, and now jupiter, did you know the great red spot on jupiter has been around for a long time! Jupiter is also the fastest spinning planet in are solar system.\n",
      "\n",
      "Sun\n",
      "\n",
      "Did you know that the sun will one day eat the earth? Kinda scary right? Well to begin the sun is made out of leftover gas’s from the nebula. But did you know that the sun is almost a perfect sphere? Also the sun is SO big that it can fit over one million earths inside the sun. Did you know that sun the is travling over 220 km per second? The sun is huge but tiny. The sun is also the solar system!\n",
      "\n",
      "Conclusion\n",
      "\n",
      "I hope you liked learning about space. Like the fun facts about space, different planets, and our bright sun. Who knows you might be an astronaut and go out of our milky way to see other places around in space. Or even find new life forms like us humans. You don’t know what can be out there in space so if you do want to do those things then I suggest you to be careful.\n"
     ]
    }
   ],
   "source": [
    "print(text[38])"
   ]
  },
  {
   "cell_type": "code",
   "execution_count": 57,
   "metadata": {},
   "outputs": [],
   "source": [
    "lda_wiki = LdaWikiModel(student_tokens_path='data/student_keywords.json', wiki_tokens_path='data/wiki_keywords.pkl', wiki_sents_path='data/sents.pkl')"
   ]
  },
  {
   "cell_type": "code",
   "execution_count": 58,
   "metadata": {},
   "outputs": [
    {
     "name": "stdout",
     "output_type": "stream",
     "text": [
      "universe introduction know universe formed keep reading .and subtopics know universe expanding know black hole form know star form know travel time … know universe expanding everyone world know light thing universe people know travel sd say travel km sd light travel sd travel speed light vacuum mile second kilometer second notice talk heading mabe light travel universe year go universe travel universe expands space expands universe expands know black hole form imagine room lot lottery shirt fit room try turn black hole way black hole form way star burn progress start star core bit iron build core iron star dy progress called supernova leftover star iron become black hole… know hoe star form star form lot hydrogen gas cloud gravity put pursue star form know way star form star way star burn progress start star core bit iron build core iron star dy progress called supernova leftover star iron becomes black hole neutron star .these con form star… know travel time approach speed light clock run come year future. ’ theory based einstein ’ theory special relativity state travel time object need reach speed speed light p say need travel time speed … conclusion book thought thing universe.and subtopics know universe expanding know black hole form know star form know travel time know thing universe go became astronaut\n",
      "\n",
      "\n",
      "\n",
      "Results: \n",
      "\n",
      "Score: 0.6449999809265137\n",
      "('Semen', 'Semen  is the fluid that comes out from the end of a mans penis when he has an orgasm the height of sexual excitement and ejaculates.')\n",
      "Score: 0.5860000252723694\n",
      "('October 30', ' 1270  The Eighth Crusade and Siege of Tunis end by an agreement between Charles I of Sicily and the Sultan of Tunis.')\n",
      "Score: 0.5849999785423279\n",
      "('Stanley Kubrick', 'His movies are respected for their great amount of detail and symbolism.')\n",
      "Score: 0.578000009059906\n",
      "('October 1', ' 1884  Denmarks Politiken newspaper is founded.')\n",
      "Score: 0.578000009059906\n",
      "('Galileo Galilei', 'He was a professor of mathematics and natural science in Padua and Pisa.')\n",
      "Score: 0.5759999752044678\n",
      "('Science', 'modern science is a discovery as well as an invention.')\n",
      "Score: 0.5740000009536743\n",
      "('October 28', ' 1344  The lower town of Smyrna Izmir in presentday Turkey is captured by Crusaders.')\n",
      "Score: 0.5709999799728394\n",
      "('Star', 'It is a multiple system of at least three stars.')\n",
      "Score: 0.5600000023841858\n",
      "('February 13', ' 1881  The feminist newspaper La Citoyenne is first published in Paris by the activist Hubertine Auclert.')\n",
      "Score: 0.5600000023841858\n",
      "('Buffy the Vampire Slayer', 'The movie came out in 1992 and stars Kristy Swanson Luke Perry Donald Sutherland and Paul Reubens.')\n"
     ]
    },
    {
     "data": {
      "text/plain": [
       "[(14354, 0.64471924),\n",
       " (8816, 0.58561075),\n",
       " (6608, 0.5851321),\n",
       " (10803, 0.57787514),\n",
       " (3281, 0.57772756),\n",
       " (1326, 0.57595545),\n",
       " (7710, 0.57368046),\n",
       " (2219, 0.57066),\n",
       " (4387, 0.56003),\n",
       " (8222, 0.5600295)]"
      ]
     },
     "execution_count": 58,
     "metadata": {},
     "output_type": "execute_result"
    }
   ],
   "source": [
    "lda_wiki.predict_lda_index(30)"
   ]
  },
  {
   "cell_type": "code",
   "execution_count": null,
   "metadata": {},
   "outputs": [],
   "source": [
    "clean_text = TextCleaner()\n",
    "def tfidf_score_sent(sent):\n",
    "    return np.sum([t[1] for t in self.wiki_tfidf[lsi_articles.wiki_dict.doc2bow(self.clean_text.get_keywords_from_sentence(sent))]])"
   ]
  },
  {
   "cell_type": "code",
   "execution_count": null,
   "metadata": {},
   "outputs": [],
   "source": [
    "def get_most_informative_sent(article):\n",
    "    article_sents = sent_tokenize(article)\n",
    "    tfidf_scores = np.array([self.tfidf_score_sent(s) for s in tfidf_score_sent(s)])\n",
    "    return article_sents[np.argmax(tfidf_scores)]"
   ]
  }
 ],
 "metadata": {
  "kernelspec": {
   "display_name": "Python 3",
   "language": "python",
   "name": "python3"
  },
  "language_info": {
   "codemirror_mode": {
    "name": "ipython",
    "version": 3
   },
   "file_extension": ".py",
   "mimetype": "text/x-python",
   "name": "python",
   "nbconvert_exporter": "python",
   "pygments_lexer": "ipython3",
   "version": "3.7.3"
  }
 },
 "nbformat": 4,
 "nbformat_minor": 2
}
