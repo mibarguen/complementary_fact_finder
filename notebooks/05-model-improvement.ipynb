{
 "cells": [
  {
   "cell_type": "code",
   "execution_count": 1,
   "metadata": {},
   "outputs": [
    {
     "name": "stdout",
     "output_type": "stream",
     "text": [
      "/Users/mateoibarguen/Desktop/CSC 482/complementary_fact_finder\n"
     ]
    }
   ],
   "source": [
    "%cd .."
   ]
  },
  {
   "cell_type": "code",
   "execution_count": 56,
   "metadata": {},
   "outputs": [],
   "source": [
    "import pickle\n",
    "import re\n",
    "import json\n",
    "from src.topic_models import *"
   ]
  },
  {
   "cell_type": "markdown",
   "metadata": {},
   "source": [
    "### Steps:\n",
    "- Reload wikipedia corpus such that it outputs:\n",
    "    - Article title: First paragraph.\n",
    "- Save tokens.\n",
    "- Retrain so that it finds the most informative articles. \n",
    "- Score the sentences within each article. \n",
    "- provide the most informative sentence. "
   ]
  },
  {
   "cell_type": "code",
   "execution_count": 3,
   "metadata": {},
   "outputs": [],
   "source": [
    "with open('data/articles.pkl', 'rb') as f:\n",
    "    articles = pickle.load(f)"
   ]
  },
  {
   "cell_type": "code",
   "execution_count": 46,
   "metadata": {},
   "outputs": [],
   "source": [
    "with open('data/tai-documents-v3.json', 'r') as f:\n",
    "    students = json.load(f)"
   ]
  },
  {
   "cell_type": "code",
   "execution_count": 49,
   "metadata": {},
   "outputs": [],
   "source": [
    "text = [s['plaintext'] for s in students]"
   ]
  },
  {
   "cell_type": "code",
   "execution_count": 59,
   "metadata": {},
   "outputs": [
    {
     "name": "stdout",
     "output_type": "stream",
     "text": [
      "The Universe\n",
      "\n",
      "Introduction\n",
      "\n",
      "Did you know how the Universe formed ?Keep reading .And ,also my subtopics are Did you know how the  Universe is expanding right now , Do you know how a Black hole forms , Do you know how a star forms , Do you know how to travel forward in time …\n",
      "\n",
      "Did you know how the Universe is expanding right now ?\n",
      "Everyone in World knows light is the fast thing in the Universe but many people don’t know how far can travel in one sd they say light travels at 1,000 km per sd or more . If you don’t exactly how far can light travel in one sd ,it travels. \n",
      "The speed of light in a vacuum is 186,282 miles per second (299,792 kilometers per second). “You might have notices this p talks different then the heading ”\n",
      "Mabe light travels very fast ,but the Universe is very very big that million of years to go out of the Universe.\n",
      "When light travels through the Universe it  expands and the space around it also expands . After that the Universe  expands forever…\n",
      "\n",
      "Do you know how a Black hole forms?\n",
      "Imagine a room of a lot lottery not one shirt will fit in the room, if you try it really hard it will turn into Black hole .There are one ways a Black hole can form . The First way is a really massive star burn really hot and fast . When this progress starts in the stars core there will a little bit iron , it builds up in the core. When the  the iron is big enough the star dies in a progress called Supernova. The leftover of the star is the  iron it become a Black hole…\n",
      "\n",
      "Do you know hoe a star forms?\n",
      "A star form When a lot of hydrogen gas cloud are near to each other . When they are near to each other gravity puts them at high pursue and a star forms. \n",
      "Do you know that in some ways star can form inside a star ?The First way is ,a really massive star burn really hot and fast . When this progress starts in the stars core there will a little bit iron ,it builds up in the core. When the  the iron is big enough the star dies in a progress called Supernova . The leftover of the star is the iron it becomes a Black hole or a Neutron star .These is how star con form inside a star…\n",
      "\n",
      "Do you know how to travel forward in time?\n",
      "As you approach the speed of light, your clock runs so slow you could come back 10,000 years in the future.’ The theory is based on Einstein’s Theory of Special Relativity that states to travel forward in time, an object would need to reach speeds close to the speed of light. These p says if you need to travel forward in time close to speed of light ….\n",
      "\n",
      "Conclusion\n",
      "In my book, I thought you about some of the special things in Universe.And again my subtopics are  Did you know how the  Universe is expanding right now , Do you know how a Black hole forms , Do you know how a star forms , Do you know how to travel forward in time . Now you know some special things in Universe ,now go and became astronaut...\n"
     ]
    }
   ],
   "source": [
    "print(text[30])"
   ]
  },
  {
   "cell_type": "code",
   "execution_count": 57,
   "metadata": {},
   "outputs": [],
   "source": [
    "lda_wiki = LdaWikiModel(student_tokens_path='data/student_keywords.json', wiki_tokens_path='data/wiki_keywords.pkl', wiki_sents_path='data/sents.pkl')"
   ]
  },
  {
   "cell_type": "code",
   "execution_count": 58,
   "metadata": {},
   "outputs": [
    {
     "name": "stdout",
     "output_type": "stream",
     "text": [
      "universe introduction know universe formed keep reading .and subtopics know universe expanding know black hole form know star form know travel time … know universe expanding everyone world know light thing universe people know travel sd say travel km sd light travel sd travel speed light vacuum mile second kilometer second notice talk heading mabe light travel universe year go universe travel universe expands space expands universe expands know black hole form imagine room lot lottery shirt fit room try turn black hole way black hole form way star burn progress start star core bit iron build core iron star dy progress called supernova leftover star iron become black hole… know hoe star form star form lot hydrogen gas cloud gravity put pursue star form know way star form star way star burn progress start star core bit iron build core iron star dy progress called supernova leftover star iron becomes black hole neutron star .these con form star… know travel time approach speed light clock run come year future. ’ theory based einstein ’ theory special relativity state travel time object need reach speed speed light p say need travel time speed … conclusion book thought thing universe.and subtopics know universe expanding know black hole form know star form know travel time know thing universe go became astronaut\n",
      "\n",
      "\n",
      "\n",
      "Results: \n",
      "\n",
      "Score: 0.6449999809265137\n",
      "('Semen', 'Semen  is the fluid that comes out from the end of a mans penis when he has an orgasm the height of sexual excitement and ejaculates.')\n",
      "Score: 0.5860000252723694\n",
      "('October 30', ' 1270  The Eighth Crusade and Siege of Tunis end by an agreement between Charles I of Sicily and the Sultan of Tunis.')\n",
      "Score: 0.5849999785423279\n",
      "('Stanley Kubrick', 'His movies are respected for their great amount of detail and symbolism.')\n",
      "Score: 0.578000009059906\n",
      "('October 1', ' 1884  Denmarks Politiken newspaper is founded.')\n",
      "Score: 0.578000009059906\n",
      "('Galileo Galilei', 'He was a professor of mathematics and natural science in Padua and Pisa.')\n",
      "Score: 0.5759999752044678\n",
      "('Science', 'modern science is a discovery as well as an invention.')\n",
      "Score: 0.5740000009536743\n",
      "('October 28', ' 1344  The lower town of Smyrna Izmir in presentday Turkey is captured by Crusaders.')\n",
      "Score: 0.5709999799728394\n",
      "('Star', 'It is a multiple system of at least three stars.')\n",
      "Score: 0.5600000023841858\n",
      "('February 13', ' 1881  The feminist newspaper La Citoyenne is first published in Paris by the activist Hubertine Auclert.')\n",
      "Score: 0.5600000023841858\n",
      "('Buffy the Vampire Slayer', 'The movie came out in 1992 and stars Kristy Swanson Luke Perry Donald Sutherland and Paul Reubens.')\n"
     ]
    },
    {
     "data": {
      "text/plain": [
       "[(14354, 0.64471924),\n",
       " (8816, 0.58561075),\n",
       " (6608, 0.5851321),\n",
       " (10803, 0.57787514),\n",
       " (3281, 0.57772756),\n",
       " (1326, 0.57595545),\n",
       " (7710, 0.57368046),\n",
       " (2219, 0.57066),\n",
       " (4387, 0.56003),\n",
       " (8222, 0.5600295)]"
      ]
     },
     "execution_count": 58,
     "metadata": {},
     "output_type": "execute_result"
    }
   ],
   "source": [
    "lda_wiki.predict_lda_index(30)"
   ]
  },
  {
   "cell_type": "code",
   "execution_count": null,
   "metadata": {},
   "outputs": [],
   "source": [
    "clean_text = TextCleaner()\n",
    "def tfidf_score_sent(sent):\n",
    "    return np.sum([t[1] for t in self.wiki_tfidf[lsi_articles.wiki_dict.doc2bow(self.clean_text.get_keywords_from_sentence(sent))]])"
   ]
  },
  {
   "cell_type": "code",
   "execution_count": null,
   "metadata": {},
   "outputs": [],
   "source": [
    "def get_most_informative_sent(article):\n",
    "    article_sents = sent_tokenize(article)\n",
    "    tfidf_scores = np.array([self.tfidf_score_sent(s) for s in tfidf_score_sent(s)])\n",
    "    return article_sents[np.argmax(tfidf_scores)]"
   ]
  }
 ],
 "metadata": {
  "kernelspec": {
   "display_name": "Python 3",
   "language": "python",
   "name": "python3"
  },
  "language_info": {
   "codemirror_mode": {
    "name": "ipython",
    "version": 3
   },
   "file_extension": ".py",
   "mimetype": "text/x-python",
   "name": "python",
   "nbconvert_exporter": "python",
   "pygments_lexer": "ipython3",
   "version": "3.7.3"
  }
 },
 "nbformat": 4,
 "nbformat_minor": 2
}
